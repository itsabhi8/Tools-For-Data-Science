{
 "cells": [
  {
   "cell_type": "markdown",
   "id": "2870b45c-5c7f-4e45-b0c5-98adacf3cd73",
   "metadata": {},
   "source": [
    "# Data Science and Tools Ecosystem"
   ]
  },
  {
   "cell_type": "markdown",
   "id": "61d52fc0-ff72-4b97-bc14-fd97a79bbb8c",
   "metadata": {},
   "source": [
    "## In this notebook, Data Science Tools and Ecosystem are summarized"
   ]
  },
  {
   "cell_type": "markdown",
   "id": "dcf8e3fc-331c-47af-869d-4ae50337906e",
   "metadata": {},
   "source": [
    "**Objectives:**\n",
    "\n",
    "- List popular programming languages for Data Science.\n",
    "- Identify commonly used libraries in data science.\n",
    "- Demonstrate basic arithmetic operations in Python.\n",
    "- Create tables and organize content in Jupyter Notebook.\n",
    "- Convert time units (e.g., minutes to hours) using Python expressions.\n"
   ]
  },
  {
   "cell_type": "markdown",
   "id": "01ba438d-0d56-4065-b93e-c7f0a96af45f",
   "metadata": {},
   "source": [
    "### Some of the popular languages that Data Scientists use are:"
   ]
  },
  {
   "cell_type": "markdown",
   "id": "8f7dcb3e-1f3f-4ef4-8eaf-798c329ffdb2",
   "metadata": {},
   "source": [
    "1. **Python**  \n",
    "   - Widely used for its ease of use and versatility.  \n",
    "   - Popular libraries include Pandas, NumPy, SciPy, TensorFlow, and scikit-learn.  \n",
    "\n",
    "2. **R**  \n",
    "   - Known for its strength in statistical computing and data visualization.  \n",
    "   - Commonly used libraries include ggplot2, dplyr, and caret.  \n",
    "\n",
    "3. **SQL**  \n",
    "   - Essential for managing and querying structured data in relational databases.  \n",
    "\n",
    "4. **Julia**  \n",
    "   - Gaining traction for its speed and efficiency in numerical computations.  \n",
    "\n",
    "5. **Scala**  \n",
    "   - Often used with Apache Spark for big data processing.  \n",
    "\n"
   ]
  },
  {
   "cell_type": "markdown",
   "id": "1291c45c-8ab1-46fa-92e3-9b3d14d8c29e",
   "metadata": {},
   "source": [
    "#### Some of the commonly used libraries used by Data Scientists include:  \n",
    "\n",
    "1. **Pandas**  \n",
    "   - Used for data manipulation and analysis.  \n",
    "\n",
    "2. **NumPy**  \n",
    "   - Provides support for large, multi-dimensional arrays and matrices.  \n",
    "\n",
    "3. **scikit-learn**  \n",
    "   - A machine learning library offering tools for classification, regression, clustering, and more.  \n",
    "\n",
    "4. **TensorFlow**  \n",
    "   - An open-source framework for deep learning and machine learning tasks.  \n",
    "\n",
    "5. **Matplotlib**  \n",
    "   - A library for creating static, interactive, and animated visualizations in Python.  \n"
   ]
  },
  {
   "cell_type": "markdown",
   "id": "2056e18f-8491-4de2-8563-81ef9c283521",
   "metadata": {},
   "source": [
    "| Data Science Tools            |\n",
    "|-------------------------------|\n",
    "| Jupyter Notebook              |\n",
    "| RStudio                       |\n",
    "| Apache Zeppelin               |\n"
   ]
  },
  {
   "cell_type": "markdown",
   "id": "cad73fa1-80ca-42b2-921b-a3a43f43a4a9",
   "metadata": {},
   "source": [
    "### Below are a few examples of evaluating arithmetic expressions in Python"
   ]
  },
  {
   "cell_type": "markdown",
   "id": "ae260ce3-95e4-4583-bde2-b679ee87eeda",
   "metadata": {},
   "source": [
    "#### This is a simple arithmetic expression to multiply 3 by 4 and then add 5\n",
    "result = (3 * 4) + 5= 17\n"
   ]
  },
  {
   "cell_type": "markdown",
   "id": "55ee1619-f808-4fd0-8bc8-99d57c0f30a8",
   "metadata": {
    "jp-MarkdownHeadingCollapsed": true
   },
   "source": [
    "#### This will convert 200 minutes to hours by dividing by 60\n",
    "hours = 200 / 60 = 3.3333333333333335\n",
    "\n",
    "\n"
   ]
  },
  {
   "cell_type": "markdown",
   "id": "430b4d8e-27d7-4384-bc7a-507bd59162ac",
   "metadata": {},
   "source": [
    "## Author\n",
    "\n",
    "Abhishek Pradhan \n"
   ]
  },
  {
   "cell_type": "code",
   "execution_count": null,
   "id": "2cdb9bd1-d1e3-4115-9f81-156ba58b96aa",
   "metadata": {},
   "outputs": [],
   "source": []
  }
 ],
 "metadata": {
  "kernelspec": {
   "display_name": "Python 3 (ipykernel)",
   "language": "python",
   "name": "python3"
  },
  "language_info": {
   "codemirror_mode": {
    "name": "ipython",
    "version": 3
   },
   "file_extension": ".py",
   "mimetype": "text/x-python",
   "name": "python",
   "nbconvert_exporter": "python",
   "pygments_lexer": "ipython3",
   "version": "3.11.9"
  }
 },
 "nbformat": 4,
 "nbformat_minor": 5
}
